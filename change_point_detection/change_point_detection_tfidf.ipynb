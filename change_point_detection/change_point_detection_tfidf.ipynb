{
 "cells": [
  {
   "cell_type": "code",
   "execution_count": 1,
   "outputs": [],
   "source": [
    "import numpy as np\n",
    "import pandas as pd\n",
    "import metachange\n",
    "from datetime import datetime\n",
    "from tqdm import tqdm\n",
    "import time\n",
    "\n",
    "from sklearn.ensemble import RandomForestClassifier\n",
    "from sklearn.neural_network import MLPClassifier\n",
    "\n",
    "pd.set_option('display.max_columns', None)"
   ],
   "metadata": {
    "collapsed": false,
    "pycharm": {
     "name": "#%%\n"
    }
   }
  },
  {
   "cell_type": "code",
   "execution_count": 2,
   "outputs": [
    {
     "data": {
      "text/plain": "                                               id  \\\n1103983  961b0d36a1d95ebebf2c7e5adac3739b02436ef6   \n1134916  d780127c2f9e1244622a534091b2fae20be5c81a   \n1047075  1f824861b5471525e379d4aafe327984cb5cb735   \n1135633  da6fdc15ae6a3933b0d58151e04e838a4c9d3982   \n1043391  186f5b16dca39cb906837eeab4518967ff9b4800   \n...                                           ...   \n399759   096eb1362ccd47e294e9662f0145980380a4ba5f   \n308545   0745e53c2d4b93d5bb0940c60f4c9323e3957724   \n205385   04da17fdf3411a17ad76a1348a24c2350b9e9c0b   \n446894   0a8aac270b958683afd9d2999c70ce1984ae422d   \n307310   0743e53c7118ba928e4e25f05dd3c33b11961220   \n\n                                                     title  \\\n1103983  @vpecresse Habituellement j’aime bien me moque...   \n1134916  @dupontaignan Rejoignez Zemmour !!!! Vous save...   \n1047075  RT @UPR_Asselineau LES 2 DEMANDES DES🇺🇸\\n1) La...   \n1135633  @EmmanuelMacron Ont as vu vos actions samedi, ...   \n1043391  RT @ZemmourEric @Elias_938 Et comme les médias...   \n...                                                    ...   \n399759   @Anne_Hidalgo @JeanLucRomero un de plus une vi...   \n308545   RT @UPR_Asselineau 🚨LES CHOIX BUDGÉTAIRES DÉME...   \n205385   RT @dupontaignan La #délinquance explose et no...   \n446894   RT @UPR_Asselineau 🤣 JE NE M'EN LASSE PAS...🤣\\...   \n307310   RT @UPR_Asselineau 🤔ÉNIGME\\nQuel est l'objecti...   \n\n                                               contentText  \\\n1103983  @vpecresse Habituellement j’aime bien me moque...   \n1134916  @dupontaignan Rejoignez Zemmour !!!! Vous save...   \n1047075  RT @UPR_Asselineau LES 2 DEMANDES DES🇺🇸 1) La ...   \n1135633  @EmmanuelMacron Ont as vu vos actions samedi, ...   \n1043391  RT @ZemmourEric @Elias_938 Et comme les médias...   \n...                                                    ...   \n399759   @Anne_Hidalgo @JeanLucRomero un de plus une vi...   \n308545   RT @UPR_Asselineau 🚨LES CHOIX BUDGÉTAIRES DÉME...   \n205385   RT @dupontaignan La #délinquance explose et no...   \n446894   RT @UPR_Asselineau 🤣 JE NE M'EN LASSE PAS...🤣 ...   \n307310   RT @UPR_Asselineau 🤔ÉNIGME Quel est l'objectif...   \n\n                                           translatedTitle  \\\n1103983  @vpecresse Usually I like to make fun of peopl...   \n1134916  @dupontaignan Join Zemmour!!!! You know you wo...   \n1047075  RT @UPR_Asselineau THE 2 DEMANDS OF 🇺🇸 1) Russ...   \n1135633  @EmmanuelMacron Have seen your actions on Satu...   \n1043391  RT @ZemmourEric @Elias_938 And since the media...   \n...                                                    ...   \n399759                                                None   \n308545                                                None   \n205385                                                None   \n446894                                                None   \n307310                                                None   \n\n                                     translatedContentText  timePublished  \\\n1103983  @vpecresse Usually I like to make fun of peopl...  1644900009000   \n1134916  @dupontaignan Join Zemmour!!!! You know you wo...  1644910758000   \n1047075  RT @UPR_Asselineau THE 2 DEMANDS OF 🇺🇸 1) Russ...  1644907848000   \n1135633  @EmmanuelMacron Have seen your actions on Satu...  1644887011000   \n1043391  RT @ZemmourEric @Elias_938 And since the media...  1644901862000   \n...                                                    ...            ...   \n399759                                                None  1656591373000   \n308545                                                None  1656619481000   \n205385                                                None  1656590709000   \n446894                                                None  1656589394000   \n307310                                                None  1656577543000   \n\n        language            datetime        date  retweetCount  \\\n1103983   French 2022-02-14 20:40:09  2022-02-14             0   \n1134916   French 2022-02-14 23:39:18  2022-02-14             0   \n1047075   French 2022-02-14 22:50:48  2022-02-14             0   \n1135633   French 2022-02-14 17:03:31  2022-02-14             0   \n1043391   French 2022-02-14 21:11:02  2022-02-14             0   \n...          ...                 ...         ...           ...   \n399759    French 2022-06-30 05:16:13  2022-06-30             0   \n308545    French 2022-06-30 13:04:41  2022-06-30             0   \n205385    French 2022-06-30 05:05:09  2022-06-30             0   \n446894    French 2022-06-30 04:43:14  2022-06-30             0   \n307310    French 2022-06-30 01:25:43  2022-06-30             0   \n\n                     tweetId        twitterUserId  followingCount  \\\n1103983  1493444999169593348  1488858509798170630              35   \n1134916  1493490083365888001            122773504              49   \n1047075  1493477878339678213   969152757679738885            1020   \n1135633  1493390480713064448  1457071107232645123              69   \n1043391  1493452773697933313           2499433442             512   \n...                      ...                  ...             ...   \n399759   1542482134534848513           2412826771              23   \n308545   1542600028660895747   914477503233830912            1562   \n205385   1542479351094120450  1490064691741216773              13   \n446894   1542473834439270400            100424410             725   \n307310   1542424126224203777           3448481055            5521   \n\n         followerCount engagementType   engagementParentId  \n1103983              0          reply  1492799457552998401  \n1134916            281          reply  1493487803212124160  \n1047075           1090        retweet  1492486246991646723  \n1135633             17          reply  1492080767001927711  \n1043391           1279        retweet  1493356718339858434  \n...                ...            ...                  ...  \n399759              35          reply  1542435367915233280  \n308545             262        retweet  1542518619715665921  \n205385              11        retweet  1542213869065707521  \n446894              66        retweet  1542399459891597312  \n307310            5766        retweet  1542058971376271360  \n\n[1032789 rows x 16 columns]",
      "text/html": "<div>\n<style scoped>\n    .dataframe tbody tr th:only-of-type {\n        vertical-align: middle;\n    }\n\n    .dataframe tbody tr th {\n        vertical-align: top;\n    }\n\n    .dataframe thead th {\n        text-align: right;\n    }\n</style>\n<table border=\"1\" class=\"dataframe\">\n  <thead>\n    <tr style=\"text-align: right;\">\n      <th></th>\n      <th>id</th>\n      <th>title</th>\n      <th>contentText</th>\n      <th>translatedTitle</th>\n      <th>translatedContentText</th>\n      <th>timePublished</th>\n      <th>language</th>\n      <th>datetime</th>\n      <th>date</th>\n      <th>retweetCount</th>\n      <th>tweetId</th>\n      <th>twitterUserId</th>\n      <th>followingCount</th>\n      <th>followerCount</th>\n      <th>engagementType</th>\n      <th>engagementParentId</th>\n    </tr>\n  </thead>\n  <tbody>\n    <tr>\n      <th>1103983</th>\n      <td>961b0d36a1d95ebebf2c7e5adac3739b02436ef6</td>\n      <td>@vpecresse Habituellement j’aime bien me moque...</td>\n      <td>@vpecresse Habituellement j’aime bien me moque...</td>\n      <td>@vpecresse Usually I like to make fun of peopl...</td>\n      <td>@vpecresse Usually I like to make fun of peopl...</td>\n      <td>1644900009000</td>\n      <td>French</td>\n      <td>2022-02-14 20:40:09</td>\n      <td>2022-02-14</td>\n      <td>0</td>\n      <td>1493444999169593348</td>\n      <td>1488858509798170630</td>\n      <td>35</td>\n      <td>0</td>\n      <td>reply</td>\n      <td>1492799457552998401</td>\n    </tr>\n    <tr>\n      <th>1134916</th>\n      <td>d780127c2f9e1244622a534091b2fae20be5c81a</td>\n      <td>@dupontaignan Rejoignez Zemmour !!!! Vous save...</td>\n      <td>@dupontaignan Rejoignez Zemmour !!!! Vous save...</td>\n      <td>@dupontaignan Join Zemmour!!!! You know you wo...</td>\n      <td>@dupontaignan Join Zemmour!!!! You know you wo...</td>\n      <td>1644910758000</td>\n      <td>French</td>\n      <td>2022-02-14 23:39:18</td>\n      <td>2022-02-14</td>\n      <td>0</td>\n      <td>1493490083365888001</td>\n      <td>122773504</td>\n      <td>49</td>\n      <td>281</td>\n      <td>reply</td>\n      <td>1493487803212124160</td>\n    </tr>\n    <tr>\n      <th>1047075</th>\n      <td>1f824861b5471525e379d4aafe327984cb5cb735</td>\n      <td>RT @UPR_Asselineau LES 2 DEMANDES DES🇺🇸\\n1) La...</td>\n      <td>RT @UPR_Asselineau LES 2 DEMANDES DES🇺🇸 1) La ...</td>\n      <td>RT @UPR_Asselineau THE 2 DEMANDS OF 🇺🇸 1) Russ...</td>\n      <td>RT @UPR_Asselineau THE 2 DEMANDS OF 🇺🇸 1) Russ...</td>\n      <td>1644907848000</td>\n      <td>French</td>\n      <td>2022-02-14 22:50:48</td>\n      <td>2022-02-14</td>\n      <td>0</td>\n      <td>1493477878339678213</td>\n      <td>969152757679738885</td>\n      <td>1020</td>\n      <td>1090</td>\n      <td>retweet</td>\n      <td>1492486246991646723</td>\n    </tr>\n    <tr>\n      <th>1135633</th>\n      <td>da6fdc15ae6a3933b0d58151e04e838a4c9d3982</td>\n      <td>@EmmanuelMacron Ont as vu vos actions samedi, ...</td>\n      <td>@EmmanuelMacron Ont as vu vos actions samedi, ...</td>\n      <td>@EmmanuelMacron Have seen your actions on Satu...</td>\n      <td>@EmmanuelMacron Have seen your actions on Satu...</td>\n      <td>1644887011000</td>\n      <td>French</td>\n      <td>2022-02-14 17:03:31</td>\n      <td>2022-02-14</td>\n      <td>0</td>\n      <td>1493390480713064448</td>\n      <td>1457071107232645123</td>\n      <td>69</td>\n      <td>17</td>\n      <td>reply</td>\n      <td>1492080767001927711</td>\n    </tr>\n    <tr>\n      <th>1043391</th>\n      <td>186f5b16dca39cb906837eeab4518967ff9b4800</td>\n      <td>RT @ZemmourEric @Elias_938 Et comme les médias...</td>\n      <td>RT @ZemmourEric @Elias_938 Et comme les médias...</td>\n      <td>RT @ZemmourEric @Elias_938 And since the media...</td>\n      <td>RT @ZemmourEric @Elias_938 And since the media...</td>\n      <td>1644901862000</td>\n      <td>French</td>\n      <td>2022-02-14 21:11:02</td>\n      <td>2022-02-14</td>\n      <td>0</td>\n      <td>1493452773697933313</td>\n      <td>2499433442</td>\n      <td>512</td>\n      <td>1279</td>\n      <td>retweet</td>\n      <td>1493356718339858434</td>\n    </tr>\n    <tr>\n      <th>...</th>\n      <td>...</td>\n      <td>...</td>\n      <td>...</td>\n      <td>...</td>\n      <td>...</td>\n      <td>...</td>\n      <td>...</td>\n      <td>...</td>\n      <td>...</td>\n      <td>...</td>\n      <td>...</td>\n      <td>...</td>\n      <td>...</td>\n      <td>...</td>\n      <td>...</td>\n      <td>...</td>\n    </tr>\n    <tr>\n      <th>399759</th>\n      <td>096eb1362ccd47e294e9662f0145980380a4ba5f</td>\n      <td>@Anne_Hidalgo @JeanLucRomero un de plus une vi...</td>\n      <td>@Anne_Hidalgo @JeanLucRomero un de plus une vi...</td>\n      <td>None</td>\n      <td>None</td>\n      <td>1656591373000</td>\n      <td>French</td>\n      <td>2022-06-30 05:16:13</td>\n      <td>2022-06-30</td>\n      <td>0</td>\n      <td>1542482134534848513</td>\n      <td>2412826771</td>\n      <td>23</td>\n      <td>35</td>\n      <td>reply</td>\n      <td>1542435367915233280</td>\n    </tr>\n    <tr>\n      <th>308545</th>\n      <td>0745e53c2d4b93d5bb0940c60f4c9323e3957724</td>\n      <td>RT @UPR_Asselineau 🚨LES CHOIX BUDGÉTAIRES DÉME...</td>\n      <td>RT @UPR_Asselineau 🚨LES CHOIX BUDGÉTAIRES DÉME...</td>\n      <td>None</td>\n      <td>None</td>\n      <td>1656619481000</td>\n      <td>French</td>\n      <td>2022-06-30 13:04:41</td>\n      <td>2022-06-30</td>\n      <td>0</td>\n      <td>1542600028660895747</td>\n      <td>914477503233830912</td>\n      <td>1562</td>\n      <td>262</td>\n      <td>retweet</td>\n      <td>1542518619715665921</td>\n    </tr>\n    <tr>\n      <th>205385</th>\n      <td>04da17fdf3411a17ad76a1348a24c2350b9e9c0b</td>\n      <td>RT @dupontaignan La #délinquance explose et no...</td>\n      <td>RT @dupontaignan La #délinquance explose et no...</td>\n      <td>None</td>\n      <td>None</td>\n      <td>1656590709000</td>\n      <td>French</td>\n      <td>2022-06-30 05:05:09</td>\n      <td>2022-06-30</td>\n      <td>0</td>\n      <td>1542479351094120450</td>\n      <td>1490064691741216773</td>\n      <td>13</td>\n      <td>11</td>\n      <td>retweet</td>\n      <td>1542213869065707521</td>\n    </tr>\n    <tr>\n      <th>446894</th>\n      <td>0a8aac270b958683afd9d2999c70ce1984ae422d</td>\n      <td>RT @UPR_Asselineau 🤣 JE NE M'EN LASSE PAS...🤣\\...</td>\n      <td>RT @UPR_Asselineau 🤣 JE NE M'EN LASSE PAS...🤣 ...</td>\n      <td>None</td>\n      <td>None</td>\n      <td>1656589394000</td>\n      <td>French</td>\n      <td>2022-06-30 04:43:14</td>\n      <td>2022-06-30</td>\n      <td>0</td>\n      <td>1542473834439270400</td>\n      <td>100424410</td>\n      <td>725</td>\n      <td>66</td>\n      <td>retweet</td>\n      <td>1542399459891597312</td>\n    </tr>\n    <tr>\n      <th>307310</th>\n      <td>0743e53c7118ba928e4e25f05dd3c33b11961220</td>\n      <td>RT @UPR_Asselineau 🤔ÉNIGME\\nQuel est l'objecti...</td>\n      <td>RT @UPR_Asselineau 🤔ÉNIGME Quel est l'objectif...</td>\n      <td>None</td>\n      <td>None</td>\n      <td>1656577543000</td>\n      <td>French</td>\n      <td>2022-06-30 01:25:43</td>\n      <td>2022-06-30</td>\n      <td>0</td>\n      <td>1542424126224203777</td>\n      <td>3448481055</td>\n      <td>5521</td>\n      <td>5766</td>\n      <td>retweet</td>\n      <td>1542058971376271360</td>\n    </tr>\n  </tbody>\n</table>\n<p>1032789 rows × 16 columns</p>\n</div>"
     },
     "execution_count": 2,
     "metadata": {},
     "output_type": "execute_result"
    }
   ],
   "source": [
    "df = pd.read_pickle(\"phase_1b_twitter_dataset.p\")\n",
    "df"
   ],
   "metadata": {
    "collapsed": false,
    "pycharm": {
     "name": "#%%\n"
    }
   }
  },
  {
   "cell_type": "code",
   "execution_count": 3,
   "outputs": [
    {
     "data": {
      "text/plain": "                                                     title  \\\n1103983  @vpecresse Habituellement j’aime bien me moque...   \n1134916  @dupontaignan Rejoignez Zemmour !!!! Vous save...   \n1047075  RT @UPR_Asselineau LES 2 DEMANDES DES🇺🇸\\n1) La...   \n1135633  @EmmanuelMacron Ont as vu vos actions samedi, ...   \n1043391  RT @ZemmourEric @Elias_938 Et comme les médias...   \n...                                                    ...   \n399759   @Anne_Hidalgo @JeanLucRomero un de plus une vi...   \n308545   RT @UPR_Asselineau 🚨LES CHOIX BUDGÉTAIRES DÉME...   \n205385   RT @dupontaignan La #délinquance explose et no...   \n446894   RT @UPR_Asselineau 🤣 JE NE M'EN LASSE PAS...🤣\\...   \n307310   RT @UPR_Asselineau 🤔ÉNIGME\\nQuel est l'objecti...   \n\n                                               contentText  timePublished  \\\n1103983  @vpecresse Habituellement j’aime bien me moque...  1644900009000   \n1134916  @dupontaignan Rejoignez Zemmour !!!! Vous save...  1644910758000   \n1047075  RT @UPR_Asselineau LES 2 DEMANDES DES🇺🇸 1) La ...  1644907848000   \n1135633  @EmmanuelMacron Ont as vu vos actions samedi, ...  1644887011000   \n1043391  RT @ZemmourEric @Elias_938 Et comme les médias...  1644901862000   \n...                                                    ...            ...   \n399759   @Anne_Hidalgo @JeanLucRomero un de plus une vi...  1656591373000   \n308545   RT @UPR_Asselineau 🚨LES CHOIX BUDGÉTAIRES DÉME...  1656619481000   \n205385   RT @dupontaignan La #délinquance explose et no...  1656590709000   \n446894   RT @UPR_Asselineau 🤣 JE NE M'EN LASSE PAS...🤣 ...  1656589394000   \n307310   RT @UPR_Asselineau 🤔ÉNIGME Quel est l'objectif...  1656577543000   \n\n                   datetime        date  \n1103983 2022-02-14 20:40:09  2022-02-14  \n1134916 2022-02-14 23:39:18  2022-02-14  \n1047075 2022-02-14 22:50:48  2022-02-14  \n1135633 2022-02-14 17:03:31  2022-02-14  \n1043391 2022-02-14 21:11:02  2022-02-14  \n...                     ...         ...  \n399759  2022-06-30 05:16:13  2022-06-30  \n308545  2022-06-30 13:04:41  2022-06-30  \n205385  2022-06-30 05:05:09  2022-06-30  \n446894  2022-06-30 04:43:14  2022-06-30  \n307310  2022-06-30 01:25:43  2022-06-30  \n\n[1032789 rows x 5 columns]",
      "text/html": "<div>\n<style scoped>\n    .dataframe tbody tr th:only-of-type {\n        vertical-align: middle;\n    }\n\n    .dataframe tbody tr th {\n        vertical-align: top;\n    }\n\n    .dataframe thead th {\n        text-align: right;\n    }\n</style>\n<table border=\"1\" class=\"dataframe\">\n  <thead>\n    <tr style=\"text-align: right;\">\n      <th></th>\n      <th>title</th>\n      <th>contentText</th>\n      <th>timePublished</th>\n      <th>datetime</th>\n      <th>date</th>\n    </tr>\n  </thead>\n  <tbody>\n    <tr>\n      <th>1103983</th>\n      <td>@vpecresse Habituellement j’aime bien me moque...</td>\n      <td>@vpecresse Habituellement j’aime bien me moque...</td>\n      <td>1644900009000</td>\n      <td>2022-02-14 20:40:09</td>\n      <td>2022-02-14</td>\n    </tr>\n    <tr>\n      <th>1134916</th>\n      <td>@dupontaignan Rejoignez Zemmour !!!! Vous save...</td>\n      <td>@dupontaignan Rejoignez Zemmour !!!! Vous save...</td>\n      <td>1644910758000</td>\n      <td>2022-02-14 23:39:18</td>\n      <td>2022-02-14</td>\n    </tr>\n    <tr>\n      <th>1047075</th>\n      <td>RT @UPR_Asselineau LES 2 DEMANDES DES🇺🇸\\n1) La...</td>\n      <td>RT @UPR_Asselineau LES 2 DEMANDES DES🇺🇸 1) La ...</td>\n      <td>1644907848000</td>\n      <td>2022-02-14 22:50:48</td>\n      <td>2022-02-14</td>\n    </tr>\n    <tr>\n      <th>1135633</th>\n      <td>@EmmanuelMacron Ont as vu vos actions samedi, ...</td>\n      <td>@EmmanuelMacron Ont as vu vos actions samedi, ...</td>\n      <td>1644887011000</td>\n      <td>2022-02-14 17:03:31</td>\n      <td>2022-02-14</td>\n    </tr>\n    <tr>\n      <th>1043391</th>\n      <td>RT @ZemmourEric @Elias_938 Et comme les médias...</td>\n      <td>RT @ZemmourEric @Elias_938 Et comme les médias...</td>\n      <td>1644901862000</td>\n      <td>2022-02-14 21:11:02</td>\n      <td>2022-02-14</td>\n    </tr>\n    <tr>\n      <th>...</th>\n      <td>...</td>\n      <td>...</td>\n      <td>...</td>\n      <td>...</td>\n      <td>...</td>\n    </tr>\n    <tr>\n      <th>399759</th>\n      <td>@Anne_Hidalgo @JeanLucRomero un de plus une vi...</td>\n      <td>@Anne_Hidalgo @JeanLucRomero un de plus une vi...</td>\n      <td>1656591373000</td>\n      <td>2022-06-30 05:16:13</td>\n      <td>2022-06-30</td>\n    </tr>\n    <tr>\n      <th>308545</th>\n      <td>RT @UPR_Asselineau 🚨LES CHOIX BUDGÉTAIRES DÉME...</td>\n      <td>RT @UPR_Asselineau 🚨LES CHOIX BUDGÉTAIRES DÉME...</td>\n      <td>1656619481000</td>\n      <td>2022-06-30 13:04:41</td>\n      <td>2022-06-30</td>\n    </tr>\n    <tr>\n      <th>205385</th>\n      <td>RT @dupontaignan La #délinquance explose et no...</td>\n      <td>RT @dupontaignan La #délinquance explose et no...</td>\n      <td>1656590709000</td>\n      <td>2022-06-30 05:05:09</td>\n      <td>2022-06-30</td>\n    </tr>\n    <tr>\n      <th>446894</th>\n      <td>RT @UPR_Asselineau 🤣 JE NE M'EN LASSE PAS...🤣\\...</td>\n      <td>RT @UPR_Asselineau 🤣 JE NE M'EN LASSE PAS...🤣 ...</td>\n      <td>1656589394000</td>\n      <td>2022-06-30 04:43:14</td>\n      <td>2022-06-30</td>\n    </tr>\n    <tr>\n      <th>307310</th>\n      <td>RT @UPR_Asselineau 🤔ÉNIGME\\nQuel est l'objecti...</td>\n      <td>RT @UPR_Asselineau 🤔ÉNIGME Quel est l'objectif...</td>\n      <td>1656577543000</td>\n      <td>2022-06-30 01:25:43</td>\n      <td>2022-06-30</td>\n    </tr>\n  </tbody>\n</table>\n<p>1032789 rows × 5 columns</p>\n</div>"
     },
     "execution_count": 3,
     "metadata": {},
     "output_type": "execute_result"
    }
   ],
   "source": [
    "df = df[[\"title\", \"contentText\", \"timePublished\", \"datetime\", \"date\"]]\n",
    "df"
   ],
   "metadata": {
    "collapsed": false,
    "pycharm": {
     "name": "#%%\n"
    }
   }
  },
  {
   "cell_type": "code",
   "execution_count": 4,
   "outputs": [
    {
     "data": {
      "text/plain": "[datetime.date(2022, 2, 14),\n datetime.date(2022, 2, 15),\n datetime.date(2022, 2, 16),\n datetime.date(2022, 2, 17),\n datetime.date(2022, 2, 18),\n datetime.date(2022, 2, 19),\n datetime.date(2022, 2, 20),\n datetime.date(2022, 2, 21),\n datetime.date(2022, 2, 22),\n datetime.date(2022, 2, 23),\n datetime.date(2022, 2, 24),\n datetime.date(2022, 2, 25),\n datetime.date(2022, 2, 26),\n datetime.date(2022, 2, 27),\n datetime.date(2022, 2, 28),\n datetime.date(2022, 3, 1),\n datetime.date(2022, 3, 2),\n datetime.date(2022, 3, 3),\n datetime.date(2022, 3, 4),\n datetime.date(2022, 3, 5),\n datetime.date(2022, 3, 6),\n datetime.date(2022, 3, 7),\n datetime.date(2022, 3, 8),\n datetime.date(2022, 3, 9),\n datetime.date(2022, 3, 10),\n datetime.date(2022, 3, 11),\n datetime.date(2022, 3, 12),\n datetime.date(2022, 3, 13),\n datetime.date(2022, 3, 14),\n datetime.date(2022, 3, 15),\n datetime.date(2022, 3, 16),\n datetime.date(2022, 3, 17),\n datetime.date(2022, 3, 18),\n datetime.date(2022, 3, 19),\n datetime.date(2022, 3, 20),\n datetime.date(2022, 3, 21),\n datetime.date(2022, 3, 22),\n datetime.date(2022, 3, 23),\n datetime.date(2022, 3, 24),\n datetime.date(2022, 3, 25),\n datetime.date(2022, 3, 26),\n datetime.date(2022, 3, 27),\n datetime.date(2022, 3, 28),\n datetime.date(2022, 3, 29),\n datetime.date(2022, 3, 30),\n datetime.date(2022, 3, 31),\n datetime.date(2022, 4, 1),\n datetime.date(2022, 4, 2),\n datetime.date(2022, 4, 3),\n datetime.date(2022, 4, 4),\n datetime.date(2022, 4, 5),\n datetime.date(2022, 4, 6),\n datetime.date(2022, 4, 7),\n datetime.date(2022, 4, 8),\n datetime.date(2022, 4, 9),\n datetime.date(2022, 4, 10),\n datetime.date(2022, 4, 11),\n datetime.date(2022, 4, 12),\n datetime.date(2022, 4, 13),\n datetime.date(2022, 4, 14),\n datetime.date(2022, 4, 15),\n datetime.date(2022, 4, 16),\n datetime.date(2022, 4, 17),\n datetime.date(2022, 4, 18),\n datetime.date(2022, 4, 19),\n datetime.date(2022, 4, 20),\n datetime.date(2022, 4, 21),\n datetime.date(2022, 4, 22),\n datetime.date(2022, 4, 23),\n datetime.date(2022, 4, 24),\n datetime.date(2022, 4, 25),\n datetime.date(2022, 4, 26),\n datetime.date(2022, 4, 27),\n datetime.date(2022, 4, 28),\n datetime.date(2022, 4, 29),\n datetime.date(2022, 4, 30),\n datetime.date(2022, 5, 1),\n datetime.date(2022, 5, 2),\n datetime.date(2022, 5, 3),\n datetime.date(2022, 5, 4),\n datetime.date(2022, 5, 5),\n datetime.date(2022, 5, 6),\n datetime.date(2022, 5, 7),\n datetime.date(2022, 5, 8),\n datetime.date(2022, 5, 9),\n datetime.date(2022, 5, 10),\n datetime.date(2022, 5, 11),\n datetime.date(2022, 5, 12),\n datetime.date(2022, 5, 13),\n datetime.date(2022, 5, 14),\n datetime.date(2022, 5, 15),\n datetime.date(2022, 5, 16),\n datetime.date(2022, 5, 17),\n datetime.date(2022, 5, 18),\n datetime.date(2022, 5, 19),\n datetime.date(2022, 5, 20),\n datetime.date(2022, 5, 21),\n datetime.date(2022, 5, 22),\n datetime.date(2022, 5, 23),\n datetime.date(2022, 5, 24),\n datetime.date(2022, 5, 25),\n datetime.date(2022, 5, 26),\n datetime.date(2022, 5, 27),\n datetime.date(2022, 5, 28),\n datetime.date(2022, 5, 29),\n datetime.date(2022, 5, 30),\n datetime.date(2022, 5, 31),\n datetime.date(2022, 6, 1),\n datetime.date(2022, 6, 2),\n datetime.date(2022, 6, 3),\n datetime.date(2022, 6, 4),\n datetime.date(2022, 6, 5),\n datetime.date(2022, 6, 6),\n datetime.date(2022, 6, 7),\n datetime.date(2022, 6, 8),\n datetime.date(2022, 6, 9),\n datetime.date(2022, 6, 10),\n datetime.date(2022, 6, 11),\n datetime.date(2022, 6, 12),\n datetime.date(2022, 6, 13),\n datetime.date(2022, 6, 14),\n datetime.date(2022, 6, 15),\n datetime.date(2022, 6, 16),\n datetime.date(2022, 6, 17),\n datetime.date(2022, 6, 18),\n datetime.date(2022, 6, 19),\n datetime.date(2022, 6, 20),\n datetime.date(2022, 6, 21),\n datetime.date(2022, 6, 22),\n datetime.date(2022, 6, 23),\n datetime.date(2022, 6, 24),\n datetime.date(2022, 6, 25),\n datetime.date(2022, 6, 26),\n datetime.date(2022, 6, 27),\n datetime.date(2022, 6, 28),\n datetime.date(2022, 6, 29),\n datetime.date(2022, 6, 30)]"
     },
     "execution_count": 4,
     "metadata": {},
     "output_type": "execute_result"
    }
   ],
   "source": [
    "date_list = df[\"date\"].tolist()\n",
    "uni_date_list = list(set(date_list))\n",
    "uni_date_list.sort()\n",
    "uni_date_list"
   ],
   "metadata": {
    "collapsed": false,
    "pycharm": {
     "name": "#%%\n"
    }
   }
  },
  {
   "cell_type": "code",
   "execution_count": 5,
   "outputs": [
    {
     "data": {
      "text/plain": "{datetime.date(2022, 2, 14): 6104,\n datetime.date(2022, 2, 15): 66413,\n datetime.date(2022, 2, 16): 18168,\n datetime.date(2022, 2, 17): 12421,\n datetime.date(2022, 2, 18): 4925,\n datetime.date(2022, 2, 19): 7395,\n datetime.date(2022, 2, 20): 8020,\n datetime.date(2022, 2, 21): 8448,\n datetime.date(2022, 2, 22): 6319,\n datetime.date(2022, 2, 23): 6320,\n datetime.date(2022, 2, 24): 14433,\n datetime.date(2022, 2, 25): 8110,\n datetime.date(2022, 2, 26): 7940,\n datetime.date(2022, 2, 27): 7241,\n datetime.date(2022, 2, 28): 8644,\n datetime.date(2022, 3, 1): 8264,\n datetime.date(2022, 3, 2): 12654,\n datetime.date(2022, 3, 3): 10943,\n datetime.date(2022, 3, 4): 8786,\n datetime.date(2022, 3, 5): 5343,\n datetime.date(2022, 3, 6): 7899,\n datetime.date(2022, 3, 7): 8613,\n datetime.date(2022, 3, 8): 7317,\n datetime.date(2022, 3, 9): 7120,\n datetime.date(2022, 3, 10): 9823,\n datetime.date(2022, 3, 11): 8543,\n datetime.date(2022, 3, 12): 8091,\n datetime.date(2022, 3, 13): 8560,\n datetime.date(2022, 3, 14): 9556,\n datetime.date(2022, 3, 15): 7895,\n datetime.date(2022, 3, 16): 7520,\n datetime.date(2022, 3, 17): 9615,\n datetime.date(2022, 3, 18): 8850,\n datetime.date(2022, 3, 19): 8366,\n datetime.date(2022, 3, 20): 7146,\n datetime.date(2022, 3, 21): 6809,\n datetime.date(2022, 3, 22): 7651,\n datetime.date(2022, 3, 23): 7865,\n datetime.date(2022, 3, 24): 9818,\n datetime.date(2022, 3, 25): 10991,\n datetime.date(2022, 3, 26): 7940,\n datetime.date(2022, 3, 27): 12460,\n datetime.date(2022, 3, 28): 10006,\n datetime.date(2022, 3, 29): 11779,\n datetime.date(2022, 3, 30): 11708,\n datetime.date(2022, 3, 31): 10279,\n datetime.date(2022, 4, 1): 9718,\n datetime.date(2022, 4, 2): 10572,\n datetime.date(2022, 4, 3): 16192,\n datetime.date(2022, 4, 4): 12489,\n datetime.date(2022, 4, 5): 14842,\n datetime.date(2022, 4, 6): 16524,\n datetime.date(2022, 4, 7): 16024,\n datetime.date(2022, 4, 8): 16900,\n datetime.date(2022, 4, 9): 5807,\n datetime.date(2022, 4, 10): 15042,\n datetime.date(2022, 4, 11): 10271,\n datetime.date(2022, 4, 12): 7669,\n datetime.date(2022, 4, 13): 10758,\n datetime.date(2022, 4, 14): 10161,\n datetime.date(2022, 4, 15): 6791,\n datetime.date(2022, 4, 16): 5904,\n datetime.date(2022, 4, 17): 5212,\n datetime.date(2022, 4, 18): 6468,\n datetime.date(2022, 4, 19): 9476,\n datetime.date(2022, 4, 20): 16115,\n datetime.date(2022, 4, 21): 9806,\n datetime.date(2022, 4, 22): 9916,\n datetime.date(2022, 4, 23): 3216,\n datetime.date(2022, 4, 24): 13516,\n datetime.date(2022, 4, 25): 7890,\n datetime.date(2022, 4, 26): 3023,\n datetime.date(2022, 4, 27): 3104,\n datetime.date(2022, 4, 28): 2958,\n datetime.date(2022, 4, 29): 2434,\n datetime.date(2022, 4, 30): 3039,\n datetime.date(2022, 5, 1): 4378,\n datetime.date(2022, 5, 2): 4022,\n datetime.date(2022, 5, 3): 3906,\n datetime.date(2022, 5, 4): 3807,\n datetime.date(2022, 5, 5): 4625,\n datetime.date(2022, 5, 6): 3926,\n datetime.date(2022, 5, 7): 7423,\n datetime.date(2022, 5, 8): 5446,\n datetime.date(2022, 5, 9): 5238,\n datetime.date(2022, 5, 10): 5713,\n datetime.date(2022, 5, 11): 3786,\n datetime.date(2022, 5, 12): 4464,\n datetime.date(2022, 5, 13): 5582,\n datetime.date(2022, 5, 14): 2758,\n datetime.date(2022, 5, 15): 3211,\n datetime.date(2022, 5, 16): 6782,\n datetime.date(2022, 5, 17): 4198,\n datetime.date(2022, 5, 18): 5223,\n datetime.date(2022, 5, 19): 4123,\n datetime.date(2022, 5, 20): 5579,\n datetime.date(2022, 5, 21): 3006,\n datetime.date(2022, 5, 22): 3421,\n datetime.date(2022, 5, 23): 4226,\n datetime.date(2022, 5, 24): 3229,\n datetime.date(2022, 5, 25): 3259,\n datetime.date(2022, 5, 26): 2530,\n datetime.date(2022, 5, 27): 2408,\n datetime.date(2022, 5, 28): 3042,\n datetime.date(2022, 5, 29): 4128,\n datetime.date(2022, 5, 30): 4834,\n datetime.date(2022, 5, 31): 3951,\n datetime.date(2022, 6, 1): 4456,\n datetime.date(2022, 6, 2): 4615,\n datetime.date(2022, 6, 3): 5004,\n datetime.date(2022, 6, 4): 4473,\n datetime.date(2022, 6, 5): 4769,\n datetime.date(2022, 6, 6): 3992,\n datetime.date(2022, 6, 7): 5842,\n datetime.date(2022, 6, 8): 5592,\n datetime.date(2022, 6, 9): 6691,\n datetime.date(2022, 6, 10): 6591,\n datetime.date(2022, 6, 11): 2603,\n datetime.date(2022, 6, 12): 6025,\n datetime.date(2022, 6, 13): 5738,\n datetime.date(2022, 6, 14): 7594,\n datetime.date(2022, 6, 15): 5617,\n datetime.date(2022, 6, 16): 8692,\n datetime.date(2022, 6, 17): 6829,\n datetime.date(2022, 6, 18): 3228,\n datetime.date(2022, 6, 19): 5869,\n datetime.date(2022, 6, 20): 3680,\n datetime.date(2022, 6, 21): 3042,\n datetime.date(2022, 6, 22): 5166,\n datetime.date(2022, 6, 23): 3588,\n datetime.date(2022, 6, 24): 7587,\n datetime.date(2022, 6, 25): 5327,\n datetime.date(2022, 6, 26): 2276,\n datetime.date(2022, 6, 27): 3870,\n datetime.date(2022, 6, 28): 4124,\n datetime.date(2022, 6, 29): 3523,\n datetime.date(2022, 6, 30): 3214}"
     },
     "execution_count": 5,
     "metadata": {},
     "output_type": "execute_result"
    }
   ],
   "source": [
    "sample_df_list = []\n",
    "date_num_dict = {}\n",
    "for date in uni_date_list:\n",
    "    target_df = df[df[\"date\"] == date]\n",
    "    date_num_dict[date] = len(target_df)\n",
    "    if len(target_df) > 1000:\n",
    "        sample_df_list.append(target_df.sample(1000))\n",
    "    else:\n",
    "        sample_df_list.append(target_df)\n",
    "sample_df = pd.concat(sample_df_list, ignore_index=True)\n",
    "date_num_dict"
   ],
   "metadata": {
    "collapsed": false,
    "pycharm": {
     "name": "#%%\n"
    }
   }
  },
  {
   "cell_type": "code",
   "execution_count": 6,
   "outputs": [
    {
     "data": {
      "text/plain": "                                              id  \\\n998696  178e74c15dee097b75c543406ea254e7945f52ba   \n758769  11e7275f5c41f19753cad4b904840d1fb81e6c4d   \n749302  11af60c7fe8145d364a26c852120175feb435b16   \n582633  0dbe8c7b60e1764ae6b812c294b1f844ef31176e   \n297008  07064f3ac7a5d50278b2af2701665a2c8b62ed44   \n...                                          ...   \n627714  0ed3d39a02600c58fb4b4f08f73150ab2ff47974   \n46145   0116b3a60413b46a50c0909f1b6db03994967a6d   \n115432  02b79354da4c33db36eff3d10c9b19f4a901c4df   \n731215  11469402ad99df2af685946aab03a26a4686324c   \n402309  0983f9e27e06b1afe0c1aebb15f32b38e4642457   \n\n                                                    title  \\\n998696  RT @dupontaignan « Je suis contre le passe vac...   \n758769                                    @MLP_officiel 🌎   \n749302  RT @MLP_officiel 🇫🇷 Françaises, Français, n'éc...   \n582633  @PhilippePoutou Réponse fasciste et haine de l...   \n297008            @EmmanuelMacron https://t.co/ZVPTQGhxqx   \n...                                                   ...   \n627714  @Fabien_Roussel ben voila , je comprend mieux ...   \n46145   RT @PhilippePoutou Nous apprenons les accusati...   \n115432  RT @JLMelenchon Ils nous attaquent mais refuse...   \n731215  @Anne_Hidalgo @2022avecHidalgo @partisocialist...   \n402309                                          🤣🤣🤣🤣🤣👍🏾👍🏾   \n\n                                              contentText translatedTitle  \\\n998696  RT @dupontaignan « Je suis contre le passe vac...            None   \n758769                                    @MLP_officiel 🌎            None   \n749302  RT @MLP_officiel 🇫🇷 Françaises, Français, n'éc...            None   \n582633  @PhilippePoutou Réponse fasciste et haine de l...            None   \n297008            @EmmanuelMacron https://t.co/ZVPTQGhxqx            None   \n...                                                   ...             ...   \n627714  @Fabien_Roussel ben voila , je comprend mieux ...            None   \n46145   RT @PhilippePoutou Nous apprenons les accusati...            None   \n115432  RT @JLMelenchon Ils nous attaquent mais refuse...            None   \n731215  @Anne_Hidalgo @2022avecHidalgo @partisocialist...            None   \n402309                                          🤣🤣🤣🤣🤣👍🏾👍🏾            None   \n\n       translatedContentText  timePublished language            datetime  \\\n998696                  None  1648762634000   French 2022-03-31 14:37:14   \n758769                  None  1652108105000  Unknown 2022-05-09 07:55:05   \n749302                  None  1649579037000   French 2022-04-10 01:23:57   \n582633                  None  1649964547000   French 2022-04-14 12:29:07   \n297008                  None  1651515637000  Unknown 2022-05-02 11:20:37   \n...                      ...            ...      ...                 ...   \n627714                  None  1648286932000   French 2022-03-26 02:28:52   \n46145                   None  1652282802000   French 2022-05-11 08:26:42   \n115432                  None  1654793723000   French 2022-06-09 09:55:23   \n731215                  None  1645803056000   French 2022-02-25 07:30:56   \n402309                  None  1650489953000  Unknown 2022-04-20 14:25:53   \n\n              date  retweetCount              tweetId        twitterUserId  \\\n998696  2022-03-31             0  1509646023794348035  1372577603559817222   \n758769  2022-05-09             0  1523677946162327554  1497224474130792457   \n749302  2022-04-10             0  1513070266066288640  1389547350587318274   \n582633  2022-04-14             0  1514687213342273538  1313756123900579840   \n297008  2022-05-02             0  1521192953200488448  1419250292365856770   \n...            ...           ...                  ...                  ...   \n627714  2022-03-26             0  1507650785546584067   942686055832092672   \n46145   2022-05-11             0  1524410676617351168           1421775048   \n115432  2022-06-09             0  1534942245153038336           4466103913   \n731215  2022-02-25             0  1497232653690433543  1390977829148446721   \n402309  2022-04-20             0  1516890925993189376  1017224710764064768   \n\n        followingCount  followerCount engagementType   engagementParentId  \n998696              78             29        retweet  1509644426146160640  \n758769             160             23          reply  1523673646136688642  \n749302             375            595        retweet  1512475535196184582  \n582633             259             52          reply  1514317836595908622  \n297008             214             31          reply  1520775480911278080  \n...                ...            ...            ...                  ...  \n627714              47             13          reply  1507321237374185472  \n46145             1854            135        retweet  1524361018478145536  \n115432              78             19        retweet  1534911437558239232  \n731215               5              2          reply  1497204602147586060  \n402309             125             90          reply                 None  \n\n[137000 rows x 16 columns]",
      "text/html": "<div>\n<style scoped>\n    .dataframe tbody tr th:only-of-type {\n        vertical-align: middle;\n    }\n\n    .dataframe tbody tr th {\n        vertical-align: top;\n    }\n\n    .dataframe thead th {\n        text-align: right;\n    }\n</style>\n<table border=\"1\" class=\"dataframe\">\n  <thead>\n    <tr style=\"text-align: right;\">\n      <th></th>\n      <th>id</th>\n      <th>title</th>\n      <th>contentText</th>\n      <th>translatedTitle</th>\n      <th>translatedContentText</th>\n      <th>timePublished</th>\n      <th>language</th>\n      <th>datetime</th>\n      <th>date</th>\n      <th>retweetCount</th>\n      <th>tweetId</th>\n      <th>twitterUserId</th>\n      <th>followingCount</th>\n      <th>followerCount</th>\n      <th>engagementType</th>\n      <th>engagementParentId</th>\n    </tr>\n  </thead>\n  <tbody>\n    <tr>\n      <th>998696</th>\n      <td>178e74c15dee097b75c543406ea254e7945f52ba</td>\n      <td>RT @dupontaignan « Je suis contre le passe vac...</td>\n      <td>RT @dupontaignan « Je suis contre le passe vac...</td>\n      <td>None</td>\n      <td>None</td>\n      <td>1648762634000</td>\n      <td>French</td>\n      <td>2022-03-31 14:37:14</td>\n      <td>2022-03-31</td>\n      <td>0</td>\n      <td>1509646023794348035</td>\n      <td>1372577603559817222</td>\n      <td>78</td>\n      <td>29</td>\n      <td>retweet</td>\n      <td>1509644426146160640</td>\n    </tr>\n    <tr>\n      <th>758769</th>\n      <td>11e7275f5c41f19753cad4b904840d1fb81e6c4d</td>\n      <td>@MLP_officiel 🌎</td>\n      <td>@MLP_officiel 🌎</td>\n      <td>None</td>\n      <td>None</td>\n      <td>1652108105000</td>\n      <td>Unknown</td>\n      <td>2022-05-09 07:55:05</td>\n      <td>2022-05-09</td>\n      <td>0</td>\n      <td>1523677946162327554</td>\n      <td>1497224474130792457</td>\n      <td>160</td>\n      <td>23</td>\n      <td>reply</td>\n      <td>1523673646136688642</td>\n    </tr>\n    <tr>\n      <th>749302</th>\n      <td>11af60c7fe8145d364a26c852120175feb435b16</td>\n      <td>RT @MLP_officiel 🇫🇷 Françaises, Français, n'éc...</td>\n      <td>RT @MLP_officiel 🇫🇷 Françaises, Français, n'éc...</td>\n      <td>None</td>\n      <td>None</td>\n      <td>1649579037000</td>\n      <td>French</td>\n      <td>2022-04-10 01:23:57</td>\n      <td>2022-04-10</td>\n      <td>0</td>\n      <td>1513070266066288640</td>\n      <td>1389547350587318274</td>\n      <td>375</td>\n      <td>595</td>\n      <td>retweet</td>\n      <td>1512475535196184582</td>\n    </tr>\n    <tr>\n      <th>582633</th>\n      <td>0dbe8c7b60e1764ae6b812c294b1f844ef31176e</td>\n      <td>@PhilippePoutou Réponse fasciste et haine de l...</td>\n      <td>@PhilippePoutou Réponse fasciste et haine de l...</td>\n      <td>None</td>\n      <td>None</td>\n      <td>1649964547000</td>\n      <td>French</td>\n      <td>2022-04-14 12:29:07</td>\n      <td>2022-04-14</td>\n      <td>0</td>\n      <td>1514687213342273538</td>\n      <td>1313756123900579840</td>\n      <td>259</td>\n      <td>52</td>\n      <td>reply</td>\n      <td>1514317836595908622</td>\n    </tr>\n    <tr>\n      <th>297008</th>\n      <td>07064f3ac7a5d50278b2af2701665a2c8b62ed44</td>\n      <td>@EmmanuelMacron https://t.co/ZVPTQGhxqx</td>\n      <td>@EmmanuelMacron https://t.co/ZVPTQGhxqx</td>\n      <td>None</td>\n      <td>None</td>\n      <td>1651515637000</td>\n      <td>Unknown</td>\n      <td>2022-05-02 11:20:37</td>\n      <td>2022-05-02</td>\n      <td>0</td>\n      <td>1521192953200488448</td>\n      <td>1419250292365856770</td>\n      <td>214</td>\n      <td>31</td>\n      <td>reply</td>\n      <td>1520775480911278080</td>\n    </tr>\n    <tr>\n      <th>...</th>\n      <td>...</td>\n      <td>...</td>\n      <td>...</td>\n      <td>...</td>\n      <td>...</td>\n      <td>...</td>\n      <td>...</td>\n      <td>...</td>\n      <td>...</td>\n      <td>...</td>\n      <td>...</td>\n      <td>...</td>\n      <td>...</td>\n      <td>...</td>\n      <td>...</td>\n      <td>...</td>\n    </tr>\n    <tr>\n      <th>627714</th>\n      <td>0ed3d39a02600c58fb4b4f08f73150ab2ff47974</td>\n      <td>@Fabien_Roussel ben voila , je comprend mieux ...</td>\n      <td>@Fabien_Roussel ben voila , je comprend mieux ...</td>\n      <td>None</td>\n      <td>None</td>\n      <td>1648286932000</td>\n      <td>French</td>\n      <td>2022-03-26 02:28:52</td>\n      <td>2022-03-26</td>\n      <td>0</td>\n      <td>1507650785546584067</td>\n      <td>942686055832092672</td>\n      <td>47</td>\n      <td>13</td>\n      <td>reply</td>\n      <td>1507321237374185472</td>\n    </tr>\n    <tr>\n      <th>46145</th>\n      <td>0116b3a60413b46a50c0909f1b6db03994967a6d</td>\n      <td>RT @PhilippePoutou Nous apprenons les accusati...</td>\n      <td>RT @PhilippePoutou Nous apprenons les accusati...</td>\n      <td>None</td>\n      <td>None</td>\n      <td>1652282802000</td>\n      <td>French</td>\n      <td>2022-05-11 08:26:42</td>\n      <td>2022-05-11</td>\n      <td>0</td>\n      <td>1524410676617351168</td>\n      <td>1421775048</td>\n      <td>1854</td>\n      <td>135</td>\n      <td>retweet</td>\n      <td>1524361018478145536</td>\n    </tr>\n    <tr>\n      <th>115432</th>\n      <td>02b79354da4c33db36eff3d10c9b19f4a901c4df</td>\n      <td>RT @JLMelenchon Ils nous attaquent mais refuse...</td>\n      <td>RT @JLMelenchon Ils nous attaquent mais refuse...</td>\n      <td>None</td>\n      <td>None</td>\n      <td>1654793723000</td>\n      <td>French</td>\n      <td>2022-06-09 09:55:23</td>\n      <td>2022-06-09</td>\n      <td>0</td>\n      <td>1534942245153038336</td>\n      <td>4466103913</td>\n      <td>78</td>\n      <td>19</td>\n      <td>retweet</td>\n      <td>1534911437558239232</td>\n    </tr>\n    <tr>\n      <th>731215</th>\n      <td>11469402ad99df2af685946aab03a26a4686324c</td>\n      <td>@Anne_Hidalgo @2022avecHidalgo @partisocialist...</td>\n      <td>@Anne_Hidalgo @2022avecHidalgo @partisocialist...</td>\n      <td>None</td>\n      <td>None</td>\n      <td>1645803056000</td>\n      <td>French</td>\n      <td>2022-02-25 07:30:56</td>\n      <td>2022-02-25</td>\n      <td>0</td>\n      <td>1497232653690433543</td>\n      <td>1390977829148446721</td>\n      <td>5</td>\n      <td>2</td>\n      <td>reply</td>\n      <td>1497204602147586060</td>\n    </tr>\n    <tr>\n      <th>402309</th>\n      <td>0983f9e27e06b1afe0c1aebb15f32b38e4642457</td>\n      <td>🤣🤣🤣🤣🤣👍🏾👍🏾</td>\n      <td>🤣🤣🤣🤣🤣👍🏾👍🏾</td>\n      <td>None</td>\n      <td>None</td>\n      <td>1650489953000</td>\n      <td>Unknown</td>\n      <td>2022-04-20 14:25:53</td>\n      <td>2022-04-20</td>\n      <td>0</td>\n      <td>1516890925993189376</td>\n      <td>1017224710764064768</td>\n      <td>125</td>\n      <td>90</td>\n      <td>reply</td>\n      <td>None</td>\n    </tr>\n  </tbody>\n</table>\n<p>137000 rows × 16 columns</p>\n</div>"
     },
     "execution_count": 6,
     "metadata": {},
     "output_type": "execute_result"
    }
   ],
   "source": [
    "sample_df = pd.read_pickle(\"phase_1b_balanced_sample\")\n",
    "sample_df"
   ],
   "metadata": {
    "collapsed": false,
    "pycharm": {
     "name": "#%%\n"
    }
   }
  },
  {
   "cell_type": "code",
   "execution_count": 7,
   "outputs": [],
   "source": [
    "# sample_df.to_pickle(\"phase_1b_sample.p\")"
   ],
   "metadata": {
    "collapsed": false,
    "pycharm": {
     "name": "#%%\n"
    }
   }
  },
  {
   "cell_type": "code",
   "execution_count": 8,
   "outputs": [],
   "source": [
    "# balanced_df = df[df[\"date\"] != datetime(2022, 2, 14).date()]\n",
    "# balanced_df = balanced_df[balanced_df[\"date\"] != datetime(2022, 2, 15).date()]\n",
    "# balanced_df = balanced_df[balanced_df[\"date\"] != datetime(2022, 2, 16).date()]\n",
    "# balanced_df = balanced_df[balanced_df[\"date\"] != datetime(2022, 2, 17).date()]\n",
    "#\n",
    "# balanced_df"
   ],
   "metadata": {
    "collapsed": false,
    "pycharm": {
     "name": "#%%\n"
    }
   }
  },
  {
   "cell_type": "code",
   "execution_count": 9,
   "outputs": [],
   "source": [
    "# balanced_sample_df = balanced_df.sample(137000)\n",
    "# balanced_sample_df.to_pickle(\"phase_1b_balanced_sample\")"
   ],
   "metadata": {
    "collapsed": false,
    "pycharm": {
     "name": "#%%\n"
    }
   }
  },
  {
   "cell_type": "code",
   "execution_count": 10,
   "outputs": [
    {
     "name": "stderr",
     "output_type": "stream",
     "text": [
      "[nltk_data] Downloading package stopwords to\n",
      "[nltk_data]     C:\\Users\\Kai\\AppData\\Roaming\\nltk_data...\n",
      "[nltk_data]   Package stopwords is already up-to-date!\n"
     ]
    }
   ],
   "source": [
    "import spacy\n",
    "import nltk\n",
    "import re\n",
    "nltk.download('stopwords')\n",
    "\n",
    "from nltk.corpus import stopwords\n",
    "# stp=stopwords.words('english')\n",
    "stp=stopwords.words('french')\n",
    "\n",
    "# nlp = spacy.load('en_core_web_md')\n",
    "nlp = spacy.load('fr_core_news_sm')\n",
    "\n",
    "def lemmatize(sent):\n",
    "    s=[token.lemma_ for token in nlp(sent)]\n",
    "    s=' '.join(s)\n",
    "    return s\n",
    "\n",
    "irrelevant_chars=\"~?!./\\:;+=&^%$#@(,)[]_*\"\n",
    "emoji_pattern = re.compile(\"[\"\n",
    "        u\"\\U0001F600-\\U0001F64F\"  # emoticons\n",
    "        u\"\\U0001F300-\\U0001F5FF\"  # symbols & pictographs\n",
    "        u\"\\U0001F680-\\U0001F6FF\"  # transport & map symbols\n",
    "        u\"\\U0001F1E0-\\U0001F1FF\"  # flags (iOS)\n",
    "                           \"]+\", flags=re.UNICODE)\n",
    "\n",
    "from string import digits\n",
    "def deep_clean(x):\n",
    "    x=x.lower()\n",
    "    x=re.sub(r'http\\S+', '', x)\n",
    "    remove_digits = str.maketrans('', '', digits)\n",
    "    remove_chars = str.maketrans('', '', irrelevant_chars)\n",
    "    x = x.translate(remove_digits)\n",
    "    x = x.translate(remove_chars)\n",
    "    x = emoji_pattern.sub(r'', x)\n",
    "    x=x.replace('!','')\n",
    "    x=x.replace('?','')\n",
    "    x=x.replace('@','')\n",
    "    x=x.replace('&','')\n",
    "    x=x.replace('$','')\n",
    "    x=x.replace('``','')\n",
    "    x=x.replace(\"'s\",'')\n",
    "    x=x.replace(\"''\",'')\n",
    "    x=[t for t in x.split() if len(t)>3]\n",
    "    x=' '.join(x)\n",
    "    return x\n",
    "\n",
    "# test = df.iloc[1][\"contentText\"]\n",
    "# print(test)\n",
    "# lem_test = lemmatize(test)\n",
    "# deep_clean_test = deep_clean(lem_test.strip())\n",
    "#\n",
    "# test_words = []\n",
    "# test_arr = deep_clean_test.split()\n",
    "# sw_test_arr = [b for b in test_arr if b not in stp]\n",
    "# print(sw_test_arr)"
   ],
   "metadata": {
    "collapsed": false,
    "pycharm": {
     "name": "#%%\n"
    }
   }
  },
  {
   "cell_type": "code",
   "execution_count": 11,
   "outputs": [
    {
     "name": "stderr",
     "output_type": "stream",
     "text": [
      " 13%|█▎        | 17151/137000 [01:48<12:36, 158.53it/s]\n"
     ]
    },
    {
     "ename": "KeyboardInterrupt",
     "evalue": "",
     "output_type": "error",
     "traceback": [
      "\u001B[1;31m---------------------------------------------------------------------------\u001B[0m",
      "\u001B[1;31mKeyboardInterrupt\u001B[0m                         Traceback (most recent call last)",
      "Input \u001B[1;32mIn [11]\u001B[0m, in \u001B[0;36m<cell line: 2>\u001B[1;34m()\u001B[0m\n\u001B[0;32m      2\u001B[0m \u001B[38;5;28;01mfor\u001B[39;00m row \u001B[38;5;129;01min\u001B[39;00m tqdm(sample_df\u001B[38;5;241m.\u001B[39mitertuples(), total\u001B[38;5;241m=\u001B[39m\u001B[38;5;28mlen\u001B[39m(sample_df)):\n\u001B[0;32m      3\u001B[0m     contentText \u001B[38;5;241m=\u001B[39m row[\u001B[38;5;241m2\u001B[39m]\n\u001B[1;32m----> 4\u001B[0m     lem_text \u001B[38;5;241m=\u001B[39m \u001B[43mlemmatize\u001B[49m\u001B[43m(\u001B[49m\u001B[43mcontentText\u001B[49m\u001B[43m)\u001B[49m\n\u001B[0;32m      5\u001B[0m     deep_clean_text \u001B[38;5;241m=\u001B[39m deep_clean(lem_text\u001B[38;5;241m.\u001B[39mstrip())\n\u001B[0;32m      6\u001B[0m     text_arr \u001B[38;5;241m=\u001B[39m deep_clean_text\u001B[38;5;241m.\u001B[39msplit()\n",
      "Input \u001B[1;32mIn [10]\u001B[0m, in \u001B[0;36mlemmatize\u001B[1;34m(sent)\u001B[0m\n\u001B[0;32m     13\u001B[0m \u001B[38;5;28;01mdef\u001B[39;00m \u001B[38;5;21mlemmatize\u001B[39m(sent):\n\u001B[1;32m---> 14\u001B[0m     s\u001B[38;5;241m=\u001B[39m[token\u001B[38;5;241m.\u001B[39mlemma_ \u001B[38;5;28;01mfor\u001B[39;00m token \u001B[38;5;129;01min\u001B[39;00m \u001B[43mnlp\u001B[49m\u001B[43m(\u001B[49m\u001B[43msent\u001B[49m\u001B[43m)\u001B[49m]\n\u001B[0;32m     15\u001B[0m     s\u001B[38;5;241m=\u001B[39m\u001B[38;5;124m'\u001B[39m\u001B[38;5;124m \u001B[39m\u001B[38;5;124m'\u001B[39m\u001B[38;5;241m.\u001B[39mjoin(s)\n\u001B[0;32m     16\u001B[0m     \u001B[38;5;28;01mreturn\u001B[39;00m s\n",
      "File \u001B[1;32md:\\research_code\\cntv_detection\\venv\\lib\\site-packages\\spacy\\language.py:445\u001B[0m, in \u001B[0;36mLanguage.__call__\u001B[1;34m(self, text, disable, component_cfg)\u001B[0m\n\u001B[0;32m    443\u001B[0m \u001B[38;5;28;01mif\u001B[39;00m \u001B[38;5;129;01mnot\u001B[39;00m \u001B[38;5;28mhasattr\u001B[39m(proc, \u001B[38;5;124m\"\u001B[39m\u001B[38;5;124m__call__\u001B[39m\u001B[38;5;124m\"\u001B[39m):\n\u001B[0;32m    444\u001B[0m     \u001B[38;5;28;01mraise\u001B[39;00m \u001B[38;5;167;01mValueError\u001B[39;00m(Errors\u001B[38;5;241m.\u001B[39mE003\u001B[38;5;241m.\u001B[39mformat(component\u001B[38;5;241m=\u001B[39m\u001B[38;5;28mtype\u001B[39m(proc), name\u001B[38;5;241m=\u001B[39mname))\n\u001B[1;32m--> 445\u001B[0m doc \u001B[38;5;241m=\u001B[39m proc(doc, \u001B[38;5;241m*\u001B[39m\u001B[38;5;241m*\u001B[39mcomponent_cfg\u001B[38;5;241m.\u001B[39mget(name, {}))\n\u001B[0;32m    446\u001B[0m \u001B[38;5;28;01mif\u001B[39;00m doc \u001B[38;5;129;01mis\u001B[39;00m \u001B[38;5;28;01mNone\u001B[39;00m:\n\u001B[0;32m    447\u001B[0m     \u001B[38;5;28;01mraise\u001B[39;00m \u001B[38;5;167;01mValueError\u001B[39;00m(Errors\u001B[38;5;241m.\u001B[39mE005\u001B[38;5;241m.\u001B[39mformat(name\u001B[38;5;241m=\u001B[39mname))\n",
      "File \u001B[1;32mnn_parser.pyx:233\u001B[0m, in \u001B[0;36mspacy.syntax.nn_parser.Parser.__call__\u001B[1;34m()\u001B[0m\n",
      "File \u001B[1;32mnn_parser.pyx:274\u001B[0m, in \u001B[0;36mspacy.syntax.nn_parser.Parser.predict\u001B[1;34m()\u001B[0m\n",
      "File \u001B[1;32mnn_parser.pyx:287\u001B[0m, in \u001B[0;36mspacy.syntax.nn_parser.Parser.greedy_parse\u001B[1;34m()\u001B[0m\n",
      "File \u001B[1;32md:\\research_code\\cntv_detection\\venv\\lib\\site-packages\\thinc\\neural\\_classes\\model.py:167\u001B[0m, in \u001B[0;36mModel.__call__\u001B[1;34m(self, x)\u001B[0m\n\u001B[0;32m    161\u001B[0m \u001B[38;5;28;01mdef\u001B[39;00m \u001B[38;5;21m__call__\u001B[39m(\u001B[38;5;28mself\u001B[39m, x):\n\u001B[0;32m    162\u001B[0m     \u001B[38;5;124;03m\"\"\"\u001B[39;00m\n\u001B[0;32m    163\u001B[0m \u001B[38;5;124;03m    x\u001B[39;00m\n\u001B[0;32m    164\u001B[0m \u001B[38;5;124;03m        Must match expected type\u001B[39;00m\n\u001B[0;32m    165\u001B[0m \u001B[38;5;124;03m        Must match expected shape\u001B[39;00m\n\u001B[0;32m    166\u001B[0m \u001B[38;5;124;03m    \"\"\"\u001B[39;00m\n\u001B[1;32m--> 167\u001B[0m     \u001B[38;5;28;01mreturn\u001B[39;00m \u001B[38;5;28;43mself\u001B[39;49m\u001B[38;5;241;43m.\u001B[39;49m\u001B[43mpredict\u001B[49m\u001B[43m(\u001B[49m\u001B[43mx\u001B[49m\u001B[43m)\u001B[49m\n",
      "File \u001B[1;32md:\\research_code\\cntv_detection\\venv\\lib\\site-packages\\thinc\\neural\\_classes\\model.py:131\u001B[0m, in \u001B[0;36mModel.predict\u001B[1;34m(self, X)\u001B[0m\n\u001B[0;32m    130\u001B[0m \u001B[38;5;28;01mdef\u001B[39;00m \u001B[38;5;21mpredict\u001B[39m(\u001B[38;5;28mself\u001B[39m, X):\n\u001B[1;32m--> 131\u001B[0m     y, _ \u001B[38;5;241m=\u001B[39m \u001B[38;5;28;43mself\u001B[39;49m\u001B[38;5;241;43m.\u001B[39;49m\u001B[43mbegin_update\u001B[49m\u001B[43m(\u001B[49m\u001B[43mX\u001B[49m\u001B[43m,\u001B[49m\u001B[43m \u001B[49m\u001B[43mdrop\u001B[49m\u001B[38;5;241;43m=\u001B[39;49m\u001B[38;5;28;43;01mNone\u001B[39;49;00m\u001B[43m)\u001B[49m\n\u001B[0;32m    132\u001B[0m     \u001B[38;5;28;01mreturn\u001B[39;00m y\n",
      "File \u001B[1;32m_parser_model.pyx:243\u001B[0m, in \u001B[0;36mspacy.syntax._parser_model.ParserModel.begin_update\u001B[1;34m()\u001B[0m\n",
      "File \u001B[1;32m_parser_model.pyx:300\u001B[0m, in \u001B[0;36mspacy.syntax._parser_model.ParserStepModel.__init__\u001B[1;34m()\u001B[0m\n",
      "File \u001B[1;32m_parser_model.pyx:425\u001B[0m, in \u001B[0;36mspacy.syntax._parser_model.precompute_hiddens.__init__\u001B[1;34m()\u001B[0m\n",
      "File \u001B[1;32md:\\research_code\\cntv_detection\\venv\\lib\\site-packages\\spacy\\_ml.py:179\u001B[0m, in \u001B[0;36mPrecomputableAffine.begin_update\u001B[1;34m(self, X, drop)\u001B[0m\n\u001B[0;32m    178\u001B[0m \u001B[38;5;28;01mdef\u001B[39;00m \u001B[38;5;21mbegin_update\u001B[39m(\u001B[38;5;28mself\u001B[39m, X, drop\u001B[38;5;241m=\u001B[39m\u001B[38;5;241m0.0\u001B[39m):\n\u001B[1;32m--> 179\u001B[0m     Yf \u001B[38;5;241m=\u001B[39m \u001B[38;5;28;43mself\u001B[39;49m\u001B[38;5;241;43m.\u001B[39;49m\u001B[43mops\u001B[49m\u001B[38;5;241;43m.\u001B[39;49m\u001B[43mgemm\u001B[49m\u001B[43m(\u001B[49m\n\u001B[0;32m    180\u001B[0m \u001B[43m        \u001B[49m\u001B[43mX\u001B[49m\u001B[43m,\u001B[49m\u001B[43m \u001B[49m\u001B[38;5;28;43mself\u001B[39;49m\u001B[38;5;241;43m.\u001B[39;49m\u001B[43mW\u001B[49m\u001B[38;5;241;43m.\u001B[39;49m\u001B[43mreshape\u001B[49m\u001B[43m(\u001B[49m\u001B[43m(\u001B[49m\u001B[38;5;28;43mself\u001B[39;49m\u001B[38;5;241;43m.\u001B[39;49m\u001B[43mnF\u001B[49m\u001B[43m \u001B[49m\u001B[38;5;241;43m*\u001B[39;49m\u001B[43m \u001B[49m\u001B[38;5;28;43mself\u001B[39;49m\u001B[38;5;241;43m.\u001B[39;49m\u001B[43mnO\u001B[49m\u001B[43m \u001B[49m\u001B[38;5;241;43m*\u001B[39;49m\u001B[43m \u001B[49m\u001B[38;5;28;43mself\u001B[39;49m\u001B[38;5;241;43m.\u001B[39;49m\u001B[43mnP\u001B[49m\u001B[43m,\u001B[49m\u001B[43m \u001B[49m\u001B[38;5;28;43mself\u001B[39;49m\u001B[38;5;241;43m.\u001B[39;49m\u001B[43mnI\u001B[49m\u001B[43m)\u001B[49m\u001B[43m)\u001B[49m\u001B[43m,\u001B[49m\u001B[43m \u001B[49m\u001B[43mtrans2\u001B[49m\u001B[38;5;241;43m=\u001B[39;49m\u001B[38;5;28;43;01mTrue\u001B[39;49;00m\n\u001B[0;32m    181\u001B[0m \u001B[43m    \u001B[49m\u001B[43m)\u001B[49m\n\u001B[0;32m    182\u001B[0m     Yf \u001B[38;5;241m=\u001B[39m Yf\u001B[38;5;241m.\u001B[39mreshape((Yf\u001B[38;5;241m.\u001B[39mshape[\u001B[38;5;241m0\u001B[39m], \u001B[38;5;28mself\u001B[39m\u001B[38;5;241m.\u001B[39mnF, \u001B[38;5;28mself\u001B[39m\u001B[38;5;241m.\u001B[39mnO, \u001B[38;5;28mself\u001B[39m\u001B[38;5;241m.\u001B[39mnP))\n\u001B[0;32m    183\u001B[0m     Yf \u001B[38;5;241m=\u001B[39m \u001B[38;5;28mself\u001B[39m\u001B[38;5;241m.\u001B[39m_add_padding(Yf)\n",
      "\u001B[1;31mKeyboardInterrupt\u001B[0m: "
     ]
    }
   ],
   "source": [
    "structural_features_raw = []\n",
    "for row in tqdm(sample_df.itertuples(), total=len(sample_df)):\n",
    "    contentText = row[2]\n",
    "    lem_text = lemmatize(contentText)\n",
    "    deep_clean_text = deep_clean(lem_text.strip())\n",
    "    text_arr = deep_clean_text.split()\n",
    "    clean_text_arr = [word for word in text_arr if word not in stp]\n",
    "    clean_text = ' '.join(clean_text_arr)\n",
    "    structural_features_raw.append({\n",
    "        \"clean_text\": clean_text\n",
    "    })\n",
    "structural_features_df = pd.DataFrame(structural_features_raw, index=sample_df.index)\n",
    "input_df = pd.concat([sample_df, structural_features_df], axis=1)\n",
    "input_df"
   ],
   "metadata": {
    "collapsed": false,
    "pycharm": {
     "name": "#%%\n"
    }
   }
  },
  {
   "cell_type": "code",
   "execution_count": null,
   "outputs": [],
   "source": [
    "from sklearn.feature_extraction.text import TfidfVectorizer\n",
    "processed_text_str_list = structural_features_df['clean_text'].tolist()\n",
    "vectorizer = TfidfVectorizer(max_features=1000)\n",
    "vectorizer.fit(processed_text_str_list)\n",
    "features_raw = []\n",
    "for row in tqdm(input_df.itertuples(), total=len(input_df)):\n",
    "    text_str = row[-1]\n",
    "    text_str_list = [text_str]\n",
    "    vector = vectorizer.transform(text_str_list)\n",
    "    vector = vector.toarray()\n",
    "    features_raw.append({\n",
    "        \"tf_idf_vec\": vector[0],\n",
    "    })\n",
    "features_df = pd.DataFrame(features_raw, index=input_df.index)\n",
    "tfidf_feature_df = pd.concat([input_df, features_df], axis=1)\n",
    "tfidf_feature_df"
   ],
   "metadata": {
    "collapsed": false,
    "pycharm": {
     "name": "#%%\n"
    }
   }
  },
  {
   "cell_type": "code",
   "execution_count": null,
   "outputs": [],
   "source": [
    "tfidf_feature_df['encoded_timestamp'] = [time/1000 for time in tfidf_feature_df['timePublished'].values]\n",
    "tfidf_feature_df"
   ],
   "metadata": {
    "collapsed": false,
    "pycharm": {
     "name": "#%%\n"
    }
   }
  },
  {
   "cell_type": "code",
   "execution_count": null,
   "outputs": [],
   "source": [
    "vec_list = tfidf_feature_df['tf_idf_vec'].tolist()\n",
    "date_list = tfidf_feature_df['encoded_timestamp'].tolist()\n",
    "\n",
    "vec_array = np.array(vec_list)\n",
    "date_array = np.array(date_list)"
   ],
   "metadata": {
    "collapsed": false,
    "pycharm": {
     "name": "#%%\n"
    }
   }
  },
  {
   "cell_type": "code",
   "execution_count": null,
   "outputs": [],
   "source": [
    "date_list.sort()\n",
    "date_list"
   ],
   "metadata": {
    "collapsed": false,
    "pycharm": {
     "name": "#%%\n"
    }
   }
  },
  {
   "cell_type": "code",
   "execution_count": null,
   "outputs": [],
   "source": [
    "# clf_rf = RandomForestClassifier(max_depth=32, criterion=\"entropy\", random_state=0)\n",
    "# res_rf = metachange.meta_change_detect_np(vec_array, date_array, clf_rf)\n",
    "# print(\"===============================\")\n",
    "# print(type(res_rf))\n",
    "# print(res_rf)"
   ],
   "metadata": {
    "collapsed": false,
    "pycharm": {
     "name": "#%%\n"
    }
   }
  },
  {
   "cell_type": "code",
   "execution_count": null,
   "outputs": [],
   "source": [
    "clf_rf = RandomForestClassifier(max_depth=32, criterion=\"entropy\", random_state=0)\n",
    "res_multi, res_multi_result = metachange.change_point_tree(vec_array, date_array, clf_rf, min_range=86400)"
   ],
   "metadata": {
    "collapsed": false,
    "pycharm": {
     "name": "#%%\n"
    }
   }
  },
  {
   "cell_type": "code",
   "execution_count": null,
   "outputs": [],
   "source": [
    "res_multi"
   ],
   "metadata": {
    "collapsed": false,
    "pycharm": {
     "name": "#%%\n"
    }
   }
  },
  {
   "cell_type": "code",
   "execution_count": null,
   "outputs": [],
   "source": [
    "def make_node_text(data):\n",
    "    t_left = data[\"t_left\"]\n",
    "    t_right = data[\"t_right\"]\n",
    "\n",
    "    if \"t0\" in data:\n",
    "        header = f't_0 = {datetime.fromtimestamp(data[\"t0\"]).date()}\\n alpha = {data[\"alpha\"]:.4f}'\n",
    "    else:\n",
    "        header = \"Leaf\"\n",
    "    return f\"{header}\\nRange:{datetime.fromtimestamp(t_left).date()}-{datetime.fromtimestamp(t_right).date()}\"\n",
    "\n",
    "\n",
    "tree = metachange.show_tree(res_multi, make_node_text)"
   ],
   "metadata": {
    "collapsed": false,
    "pycharm": {
     "name": "#%%\n"
    }
   }
  },
  {
   "cell_type": "code",
   "execution_count": null,
   "outputs": [],
   "source": [
    "tree"
   ],
   "metadata": {
    "collapsed": false,
    "pycharm": {
     "name": "#%%\n"
    }
   }
  },
  {
   "cell_type": "code",
   "execution_count": null,
   "outputs": [],
   "source": [
    "tree.view()"
   ],
   "metadata": {
    "collapsed": false,
    "pycharm": {
     "name": "#%%\n"
    }
   }
  },
  {
   "cell_type": "code",
   "execution_count": null,
   "outputs": [],
   "source": [
    "u = tree.unflatten(stagger=2)"
   ],
   "metadata": {
    "collapsed": false,
    "pycharm": {
     "name": "#%%\n"
    }
   }
  },
  {
   "cell_type": "code",
   "execution_count": null,
   "outputs": [],
   "source": [
    "u.view()"
   ],
   "metadata": {
    "collapsed": false,
    "pycharm": {
     "name": "#%%\n"
    }
   }
  },
  {
   "cell_type": "code",
   "execution_count": null,
   "outputs": [],
   "source": [
    "res_multi_result"
   ],
   "metadata": {
    "collapsed": false,
    "pycharm": {
     "name": "#%%\n"
    }
   }
  },
  {
   "cell_type": "code",
   "execution_count": null,
   "outputs": [],
   "source": [
    "t0_mean_list = []\n",
    "alpha_mean_list = []\n",
    "for changePoint_dict in res_multi_result:\n",
    "    t0_mean_list.append(changePoint_dict[\"t0_mean\"])\n",
    "    alpha_mean_list.append(changePoint_dict[\"alpha_mean\"])\n",
    "\n",
    "print(t0_mean_list)\n",
    "print(alpha_mean_list)"
   ],
   "metadata": {
    "collapsed": false,
    "pycharm": {
     "name": "#%%\n"
    }
   }
  },
  {
   "cell_type": "code",
   "execution_count": null,
   "outputs": [],
   "source": [
    "change_point_df = pd.DataFrame(list(zip(t0_mean_list, alpha_mean_list)), columns =['time', 'alpha'])\n",
    "change_point_df"
   ],
   "metadata": {
    "collapsed": false,
    "pycharm": {
     "name": "#%%\n"
    }
   }
  },
  {
   "cell_type": "code",
   "execution_count": null,
   "outputs": [],
   "source": [
    "sort_change_point_df = change_point_df.sort_values(\"time\")\n",
    "sort_change_point_df"
   ],
   "metadata": {
    "collapsed": false,
    "pycharm": {
     "name": "#%%\n"
    }
   }
  },
  {
   "cell_type": "code",
   "execution_count": null,
   "outputs": [],
   "source": [
    "from datetime import datetime\n",
    "\n",
    "start_timestamp = date_list[0]\n",
    "end_timestamp = date_list[-1]\n",
    "\n",
    "changepoint_timestamp_list = sort_change_point_df[\"time\"].tolist()\n",
    "changepoint_alpha_list = sort_change_point_df[\"alpha\"].tolist()\n",
    "\n",
    "changepoint_result_list = []\n",
    "prefix_list = []\n",
    "prefix_list.append(start_timestamp)\n",
    "for timestamp in changepoint_timestamp_list:\n",
    "    prefix_list.append(timestamp)\n",
    "\n",
    "suffix_list = [timestamp for timestamp in changepoint_timestamp_list]\n",
    "suffix_list.append(end_timestamp)\n",
    "\n",
    "for i in range(len(changepoint_alpha_list)):\n",
    "\n",
    "    change_point_result = (datetime.fromtimestamp(prefix_list[i]).date(), datetime.fromtimestamp(suffix_list[i]).date(), changepoint_alpha_list[i])\n",
    "    changepoint_result_list.append(change_point_result)\n",
    "\n",
    "changepoint_result_list"
   ],
   "metadata": {
    "collapsed": false,
    "pycharm": {
     "name": "#%%\n"
    }
   }
  },
  {
   "cell_type": "code",
   "execution_count": null,
   "outputs": [],
   "source": [
    "for changepoint in changepoint_result_list:\n",
    "    print(\"({}, {}, {})\".format(changepoint[0], changepoint[1], changepoint[2]))"
   ],
   "metadata": {
    "collapsed": false,
    "pycharm": {
     "name": "#%%\n"
    }
   }
  },
  {
   "cell_type": "code",
   "execution_count": null,
   "outputs": [],
   "source": [
    "changepoint_result_list2 = [(datetime(2022, 2, 14), datetime(2022, 2, 23), 0.5954066466834051), (datetime(2022, 2, 23), datetime(2022, 3, 7), 0.5377170405805637), (datetime(2022, 3, 7), datetime(2022, 3, 16), 0.5435984128849535), (datetime(2022, 3, 16), datetime(2022, 3, 26), 0.7054096006107358), (datetime(2022, 3, 26), datetime(2022, 4, 2), 0.6706196018661924), (datetime(2022, 4, 2), datetime(2022, 4, 10), 0.7796913011403633), (datetime(2022, 4, 10), datetime(2022, 4, 17), 0.7423825458901314), (datetime(2022, 4, 17), datetime(2022, 4, 24), 0.6463821708881645), (datetime(2022, 4, 24), datetime(2022, 5, 2), 0.6626908255487322), (datetime(2022, 5, 2), datetime(2022, 5, 11), 0.650575487748716), (datetime(2022, 5, 11), datetime(2022, 5, 21), 0.6724952801601588), (datetime(2022, 5, 21), datetime(2022, 5, 28), 0.5708984834324679), (datetime(2022, 5, 28), datetime(2022, 6, 6), 0.6956345742793127), (datetime(2022, 6, 6), datetime(2022, 6, 15), 0.7292413867261137), (datetime(2022, 6, 15), datetime(2022, 6, 23), 0.7193593551250959)]\n",
    "changepoint_result_list2"
   ],
   "metadata": {
    "collapsed": false,
    "pycharm": {
     "name": "#%%\n"
    }
   }
  },
  {
   "cell_type": "code",
   "execution_count": null,
   "outputs": [],
   "source": [
    "for changepoint in changepoint_result_list2:\n",
    "    print(\"({}, {}, {})\".format(changepoint[0].date(), changepoint[1].date(), changepoint[2]))"
   ],
   "metadata": {
    "collapsed": false,
    "pycharm": {
     "name": "#%%\n"
    }
   }
  },
  {
   "cell_type": "code",
   "execution_count": null,
   "outputs": [],
   "source": [
    "changepoint_result_list3 = [(datetime(2022, 2, 14), datetime(2022, 2, 23), 0.6906183115648793), (datetime(2022, 2, 23), datetime(2022, 3, 5), 0.5806784392262686), (datetime(2022, 3, 5), datetime(2022, 3, 14), 0.5882456532229755), (datetime(2022, 3, 14), datetime(2022, 3, 23), 0.6951522684322726), (datetime(2022, 3, 23), datetime(2022, 3, 31), 0.6713846781819132), (datetime(2022, 3, 31), datetime(2022, 4, 8), 0.8042190064824606), (datetime(2022, 4, 8), datetime(2022, 4, 16), 0.7972477098619093), (datetime(2022, 4, 16), datetime(2022, 4, 23), 0.6794452805767538), (datetime(2022, 4, 23), datetime(2022, 5, 2), 0.7000270257755165), (datetime(2022, 5, 2), datetime(2022, 5, 11), 0.6723825743911824), (datetime(2022, 5, 11), datetime(2022, 5, 20), 0.6755685905049865), (datetime(2022, 5, 20), datetime(2022, 5, 28), 0.5942424897748598), (datetime(2022, 5, 28), datetime(2022, 6, 6), 0.7615098572239706), (datetime(2022, 6, 6), datetime(2022, 6, 14), 0.750298211441014), (datetime(2022, 6, 14), datetime(2022, 6, 22), 0.7557890844394951)]"
   ],
   "metadata": {
    "collapsed": false,
    "pycharm": {
     "name": "#%%\n"
    }
   }
  },
  {
   "cell_type": "code",
   "execution_count": null,
   "outputs": [],
   "source": [
    "for changepoint in changepoint_result_list3:\n",
    "    print(\"({}, {}, {})\".format(changepoint[0].date(), changepoint[1].date(), changepoint[2]))"
   ],
   "metadata": {
    "collapsed": false,
    "pycharm": {
     "name": "#%%\n"
    }
   }
  },
  {
   "cell_type": "code",
   "execution_count": null,
   "outputs": [],
   "source": [
    "changepoint_result_list4 = [(datetime(2022, 2, 14), datetime(2022, 2, 23), 0.6712820622007661), (datetime(2022, 2, 23), datetime(2022, 3, 5), 0.5951468271690223), (datetime(2022, 3, 5), datetime(2022, 3, 13), 0.6313632642382775), (datetime(2022, 3, 13), datetime(2022, 3, 22), 0.6737502397232366), (datetime(2022, 3, 22), datetime(2022, 3, 31), 0.6479675339889194), (datetime(2022, 3, 31), datetime(2022, 4, 7), 0.7678548589673787), (datetime(2022, 4, 7), datetime(2022, 4, 15), 0.7622290485493844), (datetime(2022, 4, 15), datetime(2022, 4, 23), 0.6565019946802202), (datetime(2022, 4, 23), datetime(2022, 5, 2), 0.6760176065302508), (datetime(2022, 5, 2), datetime(2022, 5, 10), 0.6481751692058791), (datetime(2022, 5, 10), datetime(2022, 5, 19), 0.6779842204853422), (datetime(2022, 5, 19), datetime(2022, 5, 28), 0.5569081896876653), (datetime(2022, 5, 28), datetime(2022, 6, 6), 0.7386220559993611), (datetime(2022, 6, 6), datetime(2022, 6, 14), 0.7107725512736405), (datetime(2022, 6, 14), datetime(2022, 6, 22), 0.7622122846043896)]"
   ],
   "metadata": {
    "collapsed": false,
    "pycharm": {
     "name": "#%%\n"
    }
   }
  },
  {
   "cell_type": "code",
   "execution_count": null,
   "outputs": [],
   "source": [
    "for changepoint in changepoint_result_list4:\n",
    "    print(\"({}, {}, {})\".format(changepoint[0].date(), changepoint[1].date(), changepoint[2]))"
   ],
   "metadata": {
    "collapsed": false,
    "pycharm": {
     "name": "#%%\n"
    }
   }
  }
 ],
 "metadata": {
  "kernelspec": {
   "display_name": "Python 3",
   "language": "python",
   "name": "python3"
  },
  "language_info": {
   "codemirror_mode": {
    "name": "ipython",
    "version": 2
   },
   "file_extension": ".py",
   "mimetype": "text/x-python",
   "name": "python",
   "nbconvert_exporter": "python",
   "pygments_lexer": "ipython2",
   "version": "2.7.6"
  }
 },
 "nbformat": 4,
 "nbformat_minor": 0
}